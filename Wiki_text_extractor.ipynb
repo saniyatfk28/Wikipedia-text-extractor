{
  "nbformat": 4,
  "nbformat_minor": 0,
  "metadata": {
    "colab": {
      "provenance": []
    },
    "kernelspec": {
      "name": "python3",
      "display_name": "Python 3"
    },
    "language_info": {
      "name": "python"
    }
  },
  "cells": [
    {
      "cell_type": "code",
      "execution_count": 2,
      "metadata": {
        "colab": {
          "base_uri": "https://localhost:8080/"
        },
        "id": "BTJlP2vvYeaW",
        "outputId": "8db2d135-815a-4f18-94cf-19d2ab552dfe"
      },
      "outputs": [
        {
          "output_type": "stream",
          "name": "stdout",
          "text": [
            "Collecting wikipedia-api\n",
            "  Downloading Wikipedia_API-0.6.0-py3-none-any.whl (14 kB)\n",
            "Requirement already satisfied: requests in /usr/local/lib/python3.10/dist-packages (from wikipedia-api) (2.31.0)\n",
            "Requirement already satisfied: charset-normalizer<4,>=2 in /usr/local/lib/python3.10/dist-packages (from requests->wikipedia-api) (3.3.2)\n",
            "Requirement already satisfied: idna<4,>=2.5 in /usr/local/lib/python3.10/dist-packages (from requests->wikipedia-api) (3.7)\n",
            "Requirement already satisfied: urllib3<3,>=1.21.1 in /usr/local/lib/python3.10/dist-packages (from requests->wikipedia-api) (2.0.7)\n",
            "Requirement already satisfied: certifi>=2017.4.17 in /usr/local/lib/python3.10/dist-packages (from requests->wikipedia-api) (2024.6.2)\n",
            "Installing collected packages: wikipedia-api\n",
            "Successfully installed wikipedia-api-0.6.0\n"
          ]
        }
      ],
      "source": [
        "pip install wikipedia-api\n"
      ]
    },
    {
      "cell_type": "code",
      "source": [
        "import requests\n",
        "\n",
        "url = 'https://en.wikipedia.org/wiki/Rani_of_Jhansi'\n",
        "headers = {'User-Agent': 'CoolBot/0.0 (https://example.org/coolbot/; coolbot@example.org)'}\n",
        "\n",
        "response = requests.get(url, headers=headers)\n",
        "print(response)"
      ],
      "metadata": {
        "colab": {
          "base_uri": "https://localhost:8080/"
        },
        "id": "Qc-G4aLgZkHY",
        "outputId": "c4e77f31-888e-4ef7-c361-af9c2d525c3b"
      },
      "execution_count": 11,
      "outputs": [
        {
          "output_type": "stream",
          "name": "stdout",
          "text": [
            "<Response [200]>\n"
          ]
        }
      ]
    },
    {
      "cell_type": "code",
      "source": [
        "import wikipediaapi\n",
        "\n",
        "def extract_wikipedia_text(page_url):\n",
        "    # Create a Wikipedia API object with a custom user agent\n",
        "    user_agent = \"MyWikipediaBot/1.0 (https://example.com/contact)\"\n",
        "    wiki_wiki = wikipediaapi.Wikipedia('Name of project (mail@mailman.com)', 'en')\n",
        "\n",
        "    # Extract the page title from the URL\n",
        "    page_title = page_url.split('/')[-1]\n",
        "\n",
        "    # Get the Wikipedia page\n",
        "    page = wiki_wiki.page(page_title)\n",
        "\n",
        "    # Check if the page exists\n",
        "    if not page.exists():\n",
        "        return f\"Page '{page_title}' does not exist on Wikipedia.\"\n",
        "\n",
        "    # Extract the text content\n",
        "    text_content = page.text\n",
        "\n",
        "    return text_content\n",
        "\n",
        "# Example usage\n",
        "url = \"https://en.wikipedia.org/wiki/Rani_of_Jhansi\"\n",
        "text = extract_wikipedia_text(url)\n",
        "print(text)  # Print the first 500 characters of the extracted text\n"
      ],
      "metadata": {
        "colab": {
          "base_uri": "https://localhost:8080/"
        },
        "id": "jExVnCqtYpl9",
        "outputId": "22e85c16-2afe-4fb7-e257-f5b3172c4af2"
      },
      "execution_count": 16,
      "outputs": [
        {
          "output_type": "stream",
          "name": "stdout",
          "text": [
            "Lakshmibai Newalkar, the Rani of Jhansi (; born Manikarnika Tambe; 19 November 1828 — 18 June 1858), was the Maharani consort of the princely state of Jhansi in the Maratha Empire from 1843 to 1853 by marriage to Maharaja Gangadhar Rao Newalkar. She was one of the leading figures in the Indian Rebellion of 1857, who became a national hero and symbol of resistance to the British rule in India for Indian nationalists.\n",
            "Born into a Karhada Brahmin family in Banares, Lakshmibai married the Maharaja of Jhansi, Gangadhar Rao, in 1842. When the Maharaja died in 1853, the British East India Company under Governor-General Lord Dalhousie refused to recognize the claim of his adopted heir and annexed Jhansi under the Doctrine of Lapse. The Rani was unwilling to cede control and joined the rebellion against the British in 1857. She led the successful defense of Jhansi against Company allies, but in early 1858 Jhansi fell to British forces under the command of Hugh Rose. The Rani managed to escape on horseback and joined the rebels in capturing Gwalior, where they proclaimed Nana Saheb as Peshwa of the revived Maratha Empire. She died in June 1858 after being mortally wounded during the British counterattack at Gwalior.\n",
            "\n",
            "Early life\n",
            "Rani Lakshmibai (or Rani Lakshmi Bai) was born on 19 November 1828 (some sources say 1835) in the town of Banares (now Varanasi) into a Marathi Karhade Brahmin family. She was named Manikarnika Tambe and was nicknamed Manu. Her father was Moropant Tambe and her mother Bhagirathi Sapre (Bhagirathi Bai). Her parents came from the Tambe village of the Guhagar taluka located in the Ratnagiri district of modern-day  Maharashtra. Her mother died when she was five years old. Her father was a Commander during the war of Kalyanpranth. Her father worked for Peshwa Baji Rao II of Bithoor district. The Peshwa called her \"Chhabili\", which means \"beautiful \" and \"lively and cheerful\". She was educated at home and was taught to read and write, and was more independent in her childhood than others of her age; her studies included shooting, horsemanship, fencing and mallakhamba with her childhood friends Nana Sahib and Tantia Tope. Rani Lakshmibai contrasted many of the patriarchal cultural expectations for women in India's society at this time. And she was known for her unique perspectives and her courage to fight against social norms even in front of the whole society.\n",
            "Rani Lakshmibai was accustomed to riding on horseback accompanied by escorts between the palace and the temple, although sometimes she was carried in a palanquin. Her horses included Sarangi, Pavan and Baadal; according to historians, she rode Baadal when escaping from the fort in 1858. Her palace, the Rani Mahal, has now been converted into a museum. It houses a collection of archaeological remains of the period between the 9th and 12th centuries AD.\n",
            "\n",
            "History of Jhansi, 1842 – May 1857\n",
            "Manikarnika was married to the Maharaja of Jhansi, Gangadhar Rao Newalkar, in May 1842 and was afterward called Lakshmibai (or Laxmibai) in honor of the Hindu goddess Devi Lakshmi and according to the Maharashtrian tradition of women being given a new name after marriage. In September 1851, she gave birth to a boy, later named Damodar Rao, who died four months after birth due to a chronic illness. The Maharaja adopted a child called Anand Rao, the son of Gangadhar Rao's cousin, who was renamed Damodar Rao, on the day before the Maharaja died. The adoption was in the presence of the British political officer who was given a letter from the Maharaja instructing that the child be treated with respect and that the government of Jhansi should be given to his widow for her lifetime.\n",
            "After the death of the Maharaja in November 1853, because Damodar Rao (born Anand Rao) was an adopted son, the British East India Company, under Governor-General Lord Dalhousie, applied the Doctrine of Lapse, rejecting Damodar Rao's claim to the throne and annexing the state to its territories. When she was informed of this she cried out \"Main apni Jhansi nahi doongi\" (I shall not surrender my Jhansi). In March 1854, Rani Lakshmibai was given an annual pension of Rs. 60,000 and ordered to leave the palace and the fort.\n",
            "According to Vishnu Bhatt Godse, the Rani would exercise at weightlifting, wrestling, and steeplechasing before breakfast. An intelligent and simply-dressed woman, she ruled in a businesslike manner.\n",
            "\n",
            "The Revolt of 1857\n",
            "Beginning of the Rebellion\n",
            "On 10 May 1857, the Indian Rebellion started in Meerut. When news of the rebellion reached Jhansi, the Rani asked the British political officer, Captain Alexander Skene, for permission to raise a body of armed men for her protection; Skene agreed to this. The city was relatively calm amid the regional unrest in the summer of 1857, but the Rani conducted a Haldi Kumkum ceremony with pomp in front of all the women of Jhansi to provide assurance to her subjects, and to convince them that the British were cowards and not to be afraid of them.\n",
            "Until this point, Lakshmi Bai was reluctant to rebel against the British. In June 1857, rebels of the 12th Bengal Native Infantry seized the Star Fort of Jhansi, containing the treasure and magazine, and after persuading the British to lay down their arms by promising them no harm, broke their word and massacred 40 to 60 European officers of the garrison along with their wives and children. The Rani's involvement in this massacre is still a subject of debate. An army doctor, Thomas Lowe, wrote after the rebellion characterizing her as the \"Jezebel of India ... the young rani upon whose head rested the blood of the slain\".\n",
            "\n",
            "Four days after the massacre the sepoys left Jhansi, having obtained a large sum of money from the Rani, and having threatened to blow up the palace where she lived. Following this, as the only source of authority in the city the Rani felt obliged to assume the administration and wrote to Major Erskine, commissioner of the Saugor division explaining the events which had led her to do so. On 2 July, Erskine wrote in reply, requesting her to \"manage the District for the British Government\" until the arrival of a British Superintendent. The Rani's forces defeated an attempt by the mutineers to assert the claim to the throne of a rival prince Sadashiv Rao (nephew of Maharaja Gangadhar Rao) who was captured and imprisoned.\n",
            "There was then an invasion of Jhansi by the forces of Company allies Orchha and Datia; their intention however was to divide Jhansi between themselves. The Rani appealed to the British for aid but it was now believed by the governor-general that she was responsible for the massacre and no reply was received. She set up a foundry to cast cannon to be used on the walls of the fort and assembled forces including some from former feudatories of Jhansi and elements of the mutineers which were able to defeat the invaders in August 1857. Her intention at this time was still to hold Jhansi on behalf of the British.\n",
            "\n",
            "Siege of Jhansi\n",
            "From August 1857 to January 1858, Jhansi under the Rani's rule was at peace. The British had announced that troops would be sent there to maintain control but the fact that none arrived strengthened the position of a party of her advisers who wanted independence from British rule. When the British forces finally arrived in March they found it well-defended and the fort had heavy guns which could fire over the town and nearby countryside. According to one source Hugh Rose, commanding the British forces, demanded the surrender of the city; if this was refused it would be destroyed. The same source claims that after due deliberation the Rani issued a proclamation: \"We fight for independence. In the words of Lord Krishna, we will if we are victorious, enjoy the fruits of victory, if defeated and killed on the field of battle, we shall surely earn eternal glory and salvation.\" Other sources, for example, have no mention of a demand for surrender. She defended Jhansi against British troops when Sir Hugh Rose besieged Jhansi on 23 March 1858.\n",
            "The bombardment of Jhansi began on 24 March but was met by heavy return fire and the damaged defences were repaired. The defenders sent appeals for help to Tatya Tope, an important leader of the 1857 Indian Rebellion; an army of more than 20,000, headed by Tatya Tope, was sent to relieve Jhansi but they failed to do so when they fought the British on 31 March. During the battle with Tatya Tope's forces, part of the British forces continued the siege and by 2 April it was decided to launch an assault by a breach in the walls. Four columns assaulted the defences at different points and those attempting to scale the walls came under heavy fire. Two other columns had already entered the city and were approaching the palace together. Determined resistance was encountered in every street and every room of the palace. Street fighting continued into the following day and no quarter was given, even to women and children. \"No maudlin clemency was to mark the fall of the city,\" wrote Thomas Lowe. The Rani withdrew from the palace to the fort and after taking counsel decided that since resistance in the city was useless she must leave and join either Tatya Tope or Rao Sahib (Nana Sahib's nephew).\n",
            "\n",
            " According to tradition, with Damodar Rao on her back she jumped on her horse Baadal from the fort; they survived but the horse died. The Rani escaped in the night with her son, surrounded by guards. The escort included the warriors Khuda Bakhsh Basharat Ali (commandant), Ghulam Gaus Khan, Dost Khan, Lala Bhau Bakshi, Moti Bai, Sunder-Mundar, Kashi Bai, Deewan Raghunath Singh and Deewan Jawahar Singh. She decamped to Kalpi with a few guards, where she joined additional rebel forces, including Tatya Tope. They occupied the town of Kalpi and prepared to defend it. On 22 May British forces attacked Kalpi; the forces were commanded by the Rani herself and were again defeated.\n",
            "\n",
            "Flight to Gwalior\n",
            "The leaders (the Rani of Jhansi, Tatiya Tope, the Nawab of Banda, and Rao Sahib) fled once more. They came to Gwalior and joined the Indian forces who now held the city (Maharaja Scindia having fled to Agra from the battlefield at Morar). They moved on to Gwalior intending to occupy the strategic Gwalior Fort and the rebel forces occupied the city without opposition. The rebels proclaimed Nana Sahib as Peshwa of a revived Maratha dominion with Rao Sahib as his governor (ਸੂਬੇਦਾਰ) in Gwalior. The Rani was unsuccessful in trying to persuade the other rebel leaders to prepare to defend Gwalior against a British attack which she expected would come soon. General Rose's forces took Morar on 16 June and then made a successful attack on the city.\n",
            "\n",
            "Death and aftermath\n",
            "On 17 June in Kotah-ki-Serai near the Phool Bagh of Gwalior, a squadron of the 8th (King's Royal Irish) Hussars, under Captain Heneage, fought the large Indian force commanded by Rani Lakshmibai, who was trying to leave the area. The 8th Hussars charged into the Indian force, slaughtering 5,000 Indian soldiers, including any Indian \"over the age of 16\". They took two guns and continued the charge right through the Phool Bagh encampment.  In this engagement, according to an eyewitness account, Rani Lakshmibai put on a sowar's uniform and attacked one of the hussars; she was unhorsed and also wounded, probably by his saber.  Shortly afterward, as she sat bleeding by the roadside, she recognized the soldier and fired at him with a pistol, whereupon he \"dispatched the young lady with his carbine\". According to another tradition Rani Lakshmibai, the Queen of Jhansi, dressed as a cavalry leader, was badly wounded; not wishing the British to capture her body, she told a hermit to burn it. After her death, a few local people cremated her body.\n",
            "The British captured the city of Gwalior after three days. In the British report of this battle, Hugh Rose commented that Rani Lakshmibai is \"personable, clever and beautiful\" and she is \"the most dangerous of all Indian leaders\".\n",
            "London, 1878–\n",
            "\n",
            "Whatever her faults in British eyes may have been, her countrymen will ever remember that she was driven by ill-treatment into rebellion and that she lived and died for her country, we cannot forget her contribution to India.'\n",
            "\n",
            "Descendant\n",
            "According to a memoir purporting to be by 'Damodar Rao', the young prince was among his mother's troops and household at the battle of Gwalior. Together with others who had survived the battle (about 60 retainers with 60 camels and 22 horses), he fled from the camp of Rao Sahib of Bithur and as the village people of Bundelkhand dared not aid them for fear of reprisals from the British, they were forced to live in the forest and suffer many privations. After two years there were about 12 survivors and these, together with another group of 24 they encountered, sought the city of Jhalrapatan where there were yet more refugees from Jhansi. Damodar Rao of Jhansi surrendered himself to a British official and his memoir ends in May 1860. He was then allowed a pension of Rs. 10,000, seven retainers, and was in the guardianship of Munshi Dharmanarayan. The whole memoir was published in Marathi in Kelkar, Y. N. (1959) Itihasachyaaa Sahali (\"Voyages in History\"). This text is likely a written version based on tales of the prince's life in oral circulation and what happened to him remains unknown.\n",
            "\n",
            "Cultural depictions and statues\n",
            "Statues of Lakshmibai are seen in many places in India, which show her and her son tied to her back. Lakshmibai National University of Physical Education in Gwalior, Laksmibai National College of Physical Education\n",
            "in Thiruvananthapuram, Maharani Laxmi Bai Medical College in Jhansi are named after her. Rani Lakshmi Bai Central Agricultural University in Jhansi was founded in 2013. The Rani Jhansi Marine National Park is located in the Andaman and Nicobar Islands in the Bay of Bengal.\n",
            "\n",
            "Rani of Jhansi Regiment\n",
            "A women's unit of the Indian National Army was named the Rani of Jhansi Regiment. In 1957 two postage stamps were issued to commemorate the centenary of the rebellion.  Indian representations in novels, poetry, and film tend towards an uncomplicated valorization of Rani Lakshmibai as an individual solely devoted to the cause of Indian independence.\n",
            "The Rani of Jhansi Regiment was a unit of the Indian National Army (INA), which was formed in 1942 by Indian nationalists in Southeast Asia during World War II. The regiment was named in honor of Rani Lakshmibai, the warrior queen of Jhansi who fought against British colonial rule in India in 1857.\n",
            "The Rani of Jhansi Regiment was the first all-women regiment in the history of the Indian Army. It was composed of Indian women who were recruited from Southeast Asia, mostly from the Indian diaspora in Singapore and Malaya. The women were trained in military tactics, physical fitness, and marksmanship, and were deployed in Burma and other parts of Southeast Asia to fight against the British.\n",
            "The regiment was led by Captain Lakshmi Swaminathan, who was a doctor and a member of the Indian National Army. Under her leadership, the regiment fought bravely against the British forces and played a significant role in the Indian independence movement.\n",
            "The Rani of Jhansi Regiment remains an important symbol of women's participation in the struggle for Indian independence, and its legacy has inspired generations of women in India and beyond.\n",
            "The Indian Coast Guard ship ICGS Lakshmi Bai has been named after her.\n",
            "\n",
            "Songs and poems\n",
            "Several patriotic songs have been written about the Rani. The most famous composition about Rani Lakshmi Bai is the Hindi poem Jhansi ki Rani written by Subhadra Kumari Chauhan. An emotionally charged description of the life of Rani Lakshmibai, it is often taught in schools in India. A popular stanza from it reads:\n",
            "\n",
            "बुंदेले हरबोलों के मुँह हमने सुनी कहानी थी,\n",
            "  खूब लड़ी मर्दानी वह तो झाँसी वाली रानी थी।।\n",
            "Translation: “From the Bundele Harbolas’ mouths we heard stories / She fought like a man, she was the Rani of Jhansi.”\n",
            "For Marathi people, there is an equally well-known ballad about the brave queen penned at the spot near Gwalior where she died in battle, by B. R. Tambe, who was a poet laureate of Maharashtra and of her clan. A couple of stanzas run like this:\n",
            "\n",
            "रे हिंदबांधवा, थांब या स्थळीं अश्रु दोन ढाळीं /\n",
            "  ती पराक्रमाची ज्योत मावळे इथे झाशिवाली /\n",
            "  ... /\n",
            "  घोड्यावर खंद्या स्वार, हातात नंगि तर्वार /\n",
            "  खणखणा करित ती वार /\n",
            "  गोर्‍यांची कोंडी फोडित पाडित वीर इथे आली /\n",
            "\n",
            "  मर्दानी झाशीवाली!\n",
            "Translation: \"You, a denizen of this land, pause here and shed a tear or two / For this is where the flame of the valorous lady of Jhansi was extinguished / … / Astride a stalwart stallion / With a naked sword in hand / She burst open the British siege / And came to rest here, the brave lady of Jhansi!\"\n",
            "\n",
            "Novels\n",
            "Seeta: This mutiny novel written by Philip Meadows Taylor in 1872 shows the admiration of Taylor for Rani.\n",
            "The Rane: A Legend of the Indian Mutiny: In this novel written by Gillean, a British military officer, in 1887 the Rani is shown as an unscrupulous and cruel woman.\n",
            "The Queen's Desire: This novel written by Hume Nisbet in 1893 focuses on the Rani's sexuality. However, she does not want to use her sexuality to manipulate the British, but she cannot resist a British officer and consequently falls in love with him.\n",
            "Lachmi Bai, Rani of Jhansi: The Jeanne D’Arc of India: This novel written by Michael White in 1901 depicts the Rani in a romanticized way.\n",
            "Quest for a Throne by Emilio Salgari in 1907, a novel of the Sandokan series. The Rani of Jhansi appears commanding a relief force by the end of the novel when the protagonists are besieged in the capital of Assam.\n",
            "Jhansi ki Rani, viz. The Queen of Jhansi, of Vrindavan Lal Verma, 1946, which inspired the 1953 homonym film The Tiger and the Flame.\n",
            "Nightrunners of Bengal, a 1951 novel in English by John Masters.\n",
            "Flashman in the Great Game by George MacDonald Fraser(1975), a historical fiction novel about the Indian Revolt describing several meetings between Flashman and the Rani.\n",
            "La femme sacrée, in French, by Michel de Grèce. A novel based on the Rani of Jhansi's life in which the author imagines an affair between Rani and an English lawyer. Pocket, 1988, ISBN 978-2-266-02361-0\n",
            "La Reine des cipayes, in French, by Catherine Clément, Paris: Seuil, 2012, ISBN 978-2-021-02651-1\n",
            "Rani, a 2007 novel in English by Jaishree Misra.\n",
            "Manu (ISBN 072788073X) and Queen of Glory (ISBN 0727881213), (2011 & 2012) by Christopher Nicole, two novels about Lakshmibai from the time of her marriage until her death during the 'Indian Revolt' as seen and experienced by an English woman companion.\n",
            "Rebel Queen: A Novel by Michelle Moran \"A Touchstone Book\" New York: Simon and Schuster, March 2015 (ISBN 978-1476716367)\n",
            "\n",
            "Film and television\n",
            "Jansi Ki Rani or The Tiger and the Flame (1953), directed and produced by Sohrab Modi.\n",
            "Jhansi Rani (1985), an Indian Tamil film by M. Karnan, starring Pandharibai in the title role.\n",
            "In 1988 Doordarshan serial Bharat Ek Khoj produced and directed by Shyam Benegal also included a full episode on Revolt 1857. The title role of Rani Lakshmibai was played by noted TV actress Ratna Pathak Shah\n",
            "Jhansi Ki Rani, a television series aired on Doordarshan starring Varsha Usgaonkar as Rani Laxmibai.\n",
            "In 2001 the Hindi historical drama series 1857 Kranti telecasted on DD National, the character of Rani Laxmibai was played by noted actress Barkha Madan.\n",
            "In 2005 the Hindi movie Mangal Pandey: The Rising directed by Ketan Mehta, the character of Rani Lakshmibai was played by noted actress Varsha Usgaonkar.\n",
            "Jhansi Ki Rani (2009), a television series aired on Zee TV starring Kratika Sengar as Rani Lakshmibai and Ulka Gupta as young Rani Lakshmibai\n",
            "Jhansi Ki Rani Laxmibai (2012), a Hindi film by Indian filmmaker Rajesh Mittal, starring Vandana Sen Kashish as the queen.\n",
            "The Rebel, a film by Ketan Mehta, a companion piece to his film Mangal Pandey: The Rising\n",
            "The Warrior Queen of Jhansi (2019), a British film starring Devika Bhise as Rani Lakshmibai.\n",
            "Manikarnika: The Queen of Jhansi (2019), a Hindi film starring Kangana Ranaut as Rani Lakshmibai.\n",
            "Sye Raa Narasimha Reddy (2019), a Telugu language film starring Anushka Shetty as Rani Lakshmi Bai.\n",
            "Khoob Ladi Mardaani...Jhansi Ki Rani (2019), a television series airing on Colors TV starring Anushka Sen as Rani Lakshmibai.\n",
            "In 2023 DD National serial  Swaraj  also included a full episode on Rani LaxmiBai. The title role of Rani Lakshmibai was played by actress Hrishitaa Bhatt.\n",
            "\n",
            "Video game\n",
            "The Order: 1886, a single-player third-person shooter video game features a fictional version of Rani Lakshmi Bai. In the game, she is the rebel leader fighting the United India Company plotting to rule the world with unethical force.\n",
            "Fate/Grand Order, a mobile turn-based RPG that's part of the popular Fate franchise, features Lakshmibai as a playable \"Servant\" in the \"Saber\" class. Her design is based on that of existing Servant Jeanne d'Arc, taking inspiration from the 1901 novel Lachmi Bai, Rani of Jhansi: The Jeanne d’Arc of India by Michael White which described her as \"the Jeanne d'Arc of India\".\n",
            "\n",
            "Other works\n",
            "The Queen of Jhansi, by Mahasweta Devi (translated by Sagaree and Mandira Sengupta). This book is a reconstruction of the life of Rani Lakshmi Bai from extensive research of both historical documents (collected mostly by G. C. Tambe, grandson of the Queen) and folk tales, poetry, and oral tradition; the original in Bengali was published in 1956; the English translation by Seagull Books, Calcutta, 2000, ISBN 8170461758.\n",
            "The Rebellious Rani, 1966; by Sir John George Smyth, 1st Baronet.\n",
            "The Rani of Jhansi: Gender, History, and Fable in India, by Harleen Singh (Cambridge University Press, 2014). The book is a study of the many representations of Rani Lakshmibai in British novels, Hindi novels, poetry, and film.\n",
            "Good Night Stories for Rebel Girls, a children's book which features short stories about women models to children, includes an entry on the queen.\n",
            "\n",
            "See also\n",
            "References\n",
            "Sources\n",
            "Further reading\n",
            "Jerinic, Maria (1997). \"How we lost the empire: retelling the stories of the Rani of Jhansi and Queen Victoria\". In Homans, Margaret; Munich, Adrienne (eds.). Remaking Queen Victoria. Cambridge University Press. ISBN 978-0521574853.\n",
            "Jerosch, Rainer (2008). The Rani of Jhansi: Rebel Against Will, Delhi: Aakar Books; ISBN 978-8189833145.\n",
            "\n",
            "External links\n",
            "\n",
            "Lakshmi Bai in the Encyclopædia Britannica\n",
            "Overlooked No More: Laxmibai, India's Warrior Queen Who Fought the British\n",
            "The Rani of Jhansi in the British Library\n"
          ]
        }
      ]
    },
    {
      "cell_type": "code",
      "source": [],
      "metadata": {
        "id": "Nw-uVRSl4_eD"
      },
      "execution_count": null,
      "outputs": []
    }
  ]
}